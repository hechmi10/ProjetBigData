{
 "cells": [
  {
   "cell_type": "code",
   "execution_count": 1,
   "id": "615e935a",
   "metadata": {},
   "outputs": [],
   "source": [
    "from selenium import webdriver\n",
    "from pymongo import MongoClient"
   ]
  },
  {
   "cell_type": "code",
   "execution_count": 2,
   "id": "9faddf59",
   "metadata": {},
   "outputs": [],
   "source": [
    "from selenium.webdriver.common.keys import Keys"
   ]
  },
  {
   "cell_type": "code",
   "execution_count": 3,
   "id": "7c2c6d5b",
   "metadata": {},
   "outputs": [],
   "source": [
    "import pandas as pd"
   ]
  },
  {
   "cell_type": "code",
   "execution_count": 4,
   "id": "eede4c9f",
   "metadata": {},
   "outputs": [],
   "source": [
    "from selenium.webdriver.chrome.service import Service\n",
    "from selenium.webdriver.common.by import By"
   ]
  },
  {
   "cell_type": "code",
   "execution_count": 5,
   "id": "8089521e",
   "metadata": {},
   "outputs": [
    {
     "data": {
      "text/html": [
       "<div>\n",
       "<style scoped>\n",
       "    .dataframe tbody tr th:only-of-type {\n",
       "        vertical-align: middle;\n",
       "    }\n",
       "\n",
       "    .dataframe tbody tr th {\n",
       "        vertical-align: top;\n",
       "    }\n",
       "\n",
       "    .dataframe thead th {\n",
       "        text-align: right;\n",
       "    }\n",
       "</style>\n",
       "<table border=\"1\" class=\"dataframe\">\n",
       "  <thead>\n",
       "    <tr style=\"text-align: right;\">\n",
       "      <th></th>\n",
       "      <th>Caractéristiques(Chambres,Douches et Surfaces)</th>\n",
       "      <th>Emplacements</th>\n",
       "      <th>Prix</th>\n",
       "    </tr>\n",
       "  </thead>\n",
       "  <tbody>\n",
       "  </tbody>\n",
       "</table>\n",
       "</div>"
      ],
      "text/plain": [
       "Empty DataFrame\n",
       "Columns: [Caractéristiques(Chambres,Douches et Surfaces), Emplacements, Prix]\n",
       "Index: []"
      ]
     },
     "execution_count": 5,
     "metadata": {},
     "output_type": "execute_result"
    }
   ],
   "source": [
    "pd.DataFrame(columns=[\"Caractéristiques(Chambres,Douches et Surfaces)\",\"Emplacements\",\"Prix\"])"
   ]
  },
  {
   "cell_type": "code",
   "execution_count": 6,
   "id": "59ea1312",
   "metadata": {},
   "outputs": [],
   "source": [
    "service=Service('C:/Users/hechm/Downloads/chromedriver-win64/chromedriver-win64/chromedriver.exe')"
   ]
  },
  {
   "cell_type": "code",
   "execution_count": 7,
   "id": "a05231e4",
   "metadata": {},
   "outputs": [],
   "source": [
    "driver=webdriver.Chrome(service=service)"
   ]
  },
  {
   "cell_type": "code",
   "execution_count": 8,
   "id": "408fb0a7",
   "metadata": {},
   "outputs": [],
   "source": [
    "caracteristiques_list=[]\n",
    "emplacements_list=[]\n",
    "prix_list=[]"
   ]
  },
  {
   "cell_type": "code",
   "execution_count": 9,
   "id": "7d24aebc",
   "metadata": {
    "scrolled": false
   },
   "outputs": [],
   "source": [
    "def extraire_donnees(url_pattern, page_range):\n",
    "    caracteristiques = []\n",
    "    emplacements = []\n",
    "    prix = []\n",
    "\n",
    "    for i in page_range:\n",
    "        url = url_pattern.format(i)\n",
    "        driver.get(url)\n",
    "        \n",
    "        # Extraction des caractéristiques\n",
    "        caracteristiques.extend([c.text for c in driver.find_elements(By.CLASS_NAME, 'li-list-item-info-span')])\n",
    "        \n",
    "        # Extraction des emplacements à partir des balises <p>\n",
    "        emplacements.extend([p.text for p in driver.find_elements(By.TAG_NAME, 'p') if p.text.strip() != \"\"])\n",
    "        \n",
    "        # Extraction des prix\n",
    "        prix.extend([p.text for p in driver.find_elements(By.CLASS_NAME, 'item-box-price')])\n",
    "\n",
    "    return caracteristiques, emplacements, prix"
   ]
  },
  {
   "cell_type": "code",
   "execution_count": 10,
   "id": "f8102033",
   "metadata": {},
   "outputs": [],
   "source": [
    "page_range = range(1, 3)\n",
    "appartements_url = \"https://www.menzili.tn/immo/appartement-tunisie?l=0&page={}&tri=1\"\n",
    "maisons_url = \"https://www.menzili.tn/immo/maison-tunisie?l=0&page={}&tri=1\"\n",
    "terrains_url = \"https://www.menzili.tn/immo/terrain-tunisie?l=0&page={}&tri=1\""
   ]
  },
  {
   "cell_type": "code",
   "execution_count": 11,
   "id": "8b3b4c96",
   "metadata": {},
   "outputs": [],
   "source": [
    "caracteristiques_appartements, emplacements_appartements, prix_appartements = extraire_donnees(appartements_url, page_range)\n",
    "caracteristiques_maisons, emplacements_maisons, prix_maisons = extraire_donnees(maisons_url, page_range)\n",
    "caracteristiques_terrains, emplacements_terrains, prix_terrains = extraire_donnees(terrains_url, page_range)"
   ]
  },
  {
   "cell_type": "code",
   "execution_count": 14,
   "id": "98c17b50",
   "metadata": {
    "scrolled": false
   },
   "outputs": [
    {
     "data": {
      "text/html": [
       "<div>\n",
       "<style scoped>\n",
       "    .dataframe tbody tr th:only-of-type {\n",
       "        vertical-align: middle;\n",
       "    }\n",
       "\n",
       "    .dataframe tbody tr th {\n",
       "        vertical-align: top;\n",
       "    }\n",
       "\n",
       "    .dataframe thead th {\n",
       "        text-align: right;\n",
       "    }\n",
       "</style>\n",
       "<table border=\"1\" class=\"dataframe\">\n",
       "  <thead>\n",
       "    <tr style=\"text-align: right;\">\n",
       "      <th></th>\n",
       "      <th>Caractéristiques(Chambres,Douches et Surfaces)</th>\n",
       "      <th>Emplacements</th>\n",
       "      <th>Prix</th>\n",
       "    </tr>\n",
       "  </thead>\n",
       "  <tbody>\n",
       "    <tr>\n",
       "      <th>0</th>\n",
       "      <td>[2, Chambres, 1, Salle, de, bain, 5, Piéces, (...</td>\n",
       "      <td>En poursuivant votre navigation sur notre site...</td>\n",
       "      <td>175 DT</td>\n",
       "    </tr>\n",
       "    <tr>\n",
       "      <th>1</th>\n",
       "      <td>[2, Chambres, 1, Salle, de, bain, 5, Piéces, (...</td>\n",
       "      <td>Djerba-Houmt Souk, Médenine</td>\n",
       "      <td>140 DT</td>\n",
       "    </tr>\n",
       "    <tr>\n",
       "      <th>2</th>\n",
       "      <td>[2, Chambres, 1, Salle, de, bain, 5, Piéces, (...</td>\n",
       "      <td>Djerba-Houmt Souk, Médenine</td>\n",
       "      <td>140 DT</td>\n",
       "    </tr>\n",
       "    <tr>\n",
       "      <th>3</th>\n",
       "      <td>[2, Chambres, 1, Salle, de, bain, 5, Piéces, (...</td>\n",
       "      <td>Djerba-Houmt Souk, Médenine</td>\n",
       "      <td>175 DT</td>\n",
       "    </tr>\n",
       "    <tr>\n",
       "      <th>4</th>\n",
       "      <td>[2, Chambres, 1, Salle, de, bain, 5, Piéces, (...</td>\n",
       "      <td>Djerba-Houmt Souk, Médenine</td>\n",
       "      <td>210 DT</td>\n",
       "    </tr>\n",
       "    <tr>\n",
       "      <th>...</th>\n",
       "      <td>...</td>\n",
       "      <td>...</td>\n",
       "      <td>...</td>\n",
       "    </tr>\n",
       "    <tr>\n",
       "      <th>121</th>\n",
       "      <td>[2, Chambres, 1, Salle, de, bain, 5, Piéces, (...</td>\n",
       "      <td>Tunis</td>\n",
       "      <td>Contactez l'annonceur</td>\n",
       "    </tr>\n",
       "    <tr>\n",
       "      <th>122</th>\n",
       "      <td>[2, Chambres, 1, Salle, de, bain, 5, Piéces, (...</td>\n",
       "      <td>Djerba</td>\n",
       "      <td>3 200 000 000 DT</td>\n",
       "    </tr>\n",
       "    <tr>\n",
       "      <th>123</th>\n",
       "      <td>[2, Chambres, 1, Salle, de, bain, 5, Piéces, (...</td>\n",
       "      <td>Nabeul</td>\n",
       "      <td>250 DT</td>\n",
       "    </tr>\n",
       "    <tr>\n",
       "      <th>124</th>\n",
       "      <td>[2, Chambres, 1, Salle, de, bain, 5, Piéces, (...</td>\n",
       "      <td>Bizerte</td>\n",
       "      <td>360 DT</td>\n",
       "    </tr>\n",
       "    <tr>\n",
       "      <th>125</th>\n",
       "      <td>[4, Chambres, 2, Salle, de, bain, 5, Piéces, (...</td>\n",
       "      <td>Raoued</td>\n",
       "      <td>70 000 DT</td>\n",
       "    </tr>\n",
       "  </tbody>\n",
       "</table>\n",
       "<p>126 rows × 3 columns</p>\n",
       "</div>"
      ],
      "text/plain": [
       "        Caractéristiques(Chambres,Douches et Surfaces)  \\\n",
       "0    [2, Chambres, 1, Salle, de, bain, 5, Piéces, (...   \n",
       "1    [2, Chambres, 1, Salle, de, bain, 5, Piéces, (...   \n",
       "2    [2, Chambres, 1, Salle, de, bain, 5, Piéces, (...   \n",
       "3    [2, Chambres, 1, Salle, de, bain, 5, Piéces, (...   \n",
       "4    [2, Chambres, 1, Salle, de, bain, 5, Piéces, (...   \n",
       "..                                                 ...   \n",
       "121  [2, Chambres, 1, Salle, de, bain, 5, Piéces, (...   \n",
       "122  [2, Chambres, 1, Salle, de, bain, 5, Piéces, (...   \n",
       "123  [2, Chambres, 1, Salle, de, bain, 5, Piéces, (...   \n",
       "124  [2, Chambres, 1, Salle, de, bain, 5, Piéces, (...   \n",
       "125  [4, Chambres, 2, Salle, de, bain, 5, Piéces, (...   \n",
       "\n",
       "                                          Emplacements                   Prix  \n",
       "0    En poursuivant votre navigation sur notre site...                 175 DT  \n",
       "1                          Djerba-Houmt Souk, Médenine                 140 DT  \n",
       "2                          Djerba-Houmt Souk, Médenine                 140 DT  \n",
       "3                          Djerba-Houmt Souk, Médenine                 175 DT  \n",
       "4                          Djerba-Houmt Souk, Médenine                 210 DT  \n",
       "..                                                 ...                    ...  \n",
       "121                                              Tunis  Contactez l'annonceur  \n",
       "122                                             Djerba       3 200 000 000 DT  \n",
       "123                                             Nabeul                 250 DT  \n",
       "124                                            Bizerte                 360 DT  \n",
       "125                                             Raoued              70 000 DT  \n",
       "\n",
       "[126 rows x 3 columns]"
      ]
     },
     "execution_count": 14,
     "metadata": {},
     "output_type": "execute_result"
    }
   ],
   "source": [
    "for a in caracteristiques_appartements:\n",
    "    caracteristiques_list.append(a.split())\n",
    "for m in caracteristiques_maisons:\n",
    "    caracteristiques_list.append(m.split())\n",
    "for t in caracteristiques_terrains:\n",
    "    caracteristiques_list.append(t.split())\n",
    "\n",
    "for ea in emplacements_appartements:\n",
    "    emplacements_list.append(ea.strip())\n",
    "for em in emplacements_maisons:\n",
    "    emplacements_list.append(em.strip())\n",
    "for et in emplacements_terrains:\n",
    "    emplacements_list.append(et.strip())\n",
    "\n",
    "for pa in prix_appartements:\n",
    "    prix_list.append(pa.strip())\n",
    "for pm in prix_maisons:\n",
    "    prix_list.append(pm.strip())\n",
    "for pt in prix_terrains:\n",
    "    prix_list.append(pt.strip())\n",
    "\n",
    "data_tuples=list(zip(caracteristiques_list,emplacements_list,prix_list))\n",
    "pd.DataFrame(data_tuples,columns=[\"Caractéristiques(Chambres,Douches et Surfaces)\",\"Emplacements\",\"Prix\"])"
   ]
  },
  {
   "cell_type": "code",
   "execution_count": 15,
   "id": "90ee0245",
   "metadata": {},
   "outputs": [],
   "source": [
    "client=MongoClient('mongodb://localhost:27017/')\n",
    "annonces=[{\"Caracteristiques(Chambres,Douches,Surface)\":caracteristique,\"Emplacements\":emplacement,\"Prix\":prix} for caracteristique,emplacement,prix in zip(caracteristiques_list,emplacements_list,prix_list)]\n",
    "with client:\n",
    "    db=client.immobilieres\n",
    "    db.annonces.insert_many(annonces)"
   ]
  },
  {
   "cell_type": "code",
   "execution_count": 16,
   "id": "a41e8b3e",
   "metadata": {},
   "outputs": [
    {
     "name": "stdout",
     "output_type": "stream",
     "text": [
      "[{'_id': ObjectId('675c204e0f8df28e69dfac69'), 'Caracteristiques(Chambres,Douches,Surface)': ['2', 'Chambres', '1', 'Salle', 'de', 'bain', '5', 'Piéces', '(Totale)'], 'Emplacements': 'En poursuivant votre navigation sur notre site, vous acceptez l’utilisation de Cookies.AccepterEn savoir plus', 'Prix': '175 DT'}, {'_id': ObjectId('675c204e0f8df28e69dfac6a'), 'Caracteristiques(Chambres,Douches,Surface)': ['2', 'Chambres', '1', 'Salle', 'de', 'bain', '5', 'Piéces', '(Totale)'], 'Emplacements': 'Djerba-Houmt Souk, Médenine', 'Prix': '140 DT'}, {'_id': ObjectId('675c204e0f8df28e69dfac6b'), 'Caracteristiques(Chambres,Douches,Surface)': ['2', 'Chambres', '1', 'Salle', 'de', 'bain', '5', 'Piéces', '(Totale)'], 'Emplacements': 'Djerba-Houmt Souk, Médenine', 'Prix': '140 DT'}, {'_id': ObjectId('675c204e0f8df28e69dfac6c'), 'Caracteristiques(Chambres,Douches,Surface)': ['2', 'Chambres', '1', 'Salle', 'de', 'bain', '5', 'Piéces', '(Totale)'], 'Emplacements': 'Djerba-Houmt Souk, Médenine', 'Prix': '175 DT'}, {'_id': ObjectId('675c204e0f8df28e69dfac6d'), 'Caracteristiques(Chambres,Douches,Surface)': ['2', 'Chambres', '1', 'Salle', 'de', 'bain', '5', 'Piéces', '(Totale)'], 'Emplacements': 'Djerba-Houmt Souk, Médenine', 'Prix': '210 DT'}, {'_id': ObjectId('675c204e0f8df28e69dfac6e'), 'Caracteristiques(Chambres,Douches,Surface)': ['4', 'Chambres', '2', 'Salle', 'de', 'bain', '5', 'Piéces', '(Totale)', '200m²', 'Surf', 'habitable', '209m²', 'Surf', 'terrain'], 'Emplacements': 'Djerba-Houmt Souk, Médenine', 'Prix': '2 200 DT'}, {'_id': ObjectId('675c204e0f8df28e69dfac6f'), 'Caracteristiques(Chambres,Douches,Surface)': ['1', 'Chambres', '1', 'Salle', 'de', 'bain', '2', 'Piéces', '(Totale)', '78m²', 'Surf', 'habitable'], 'Emplacements': \"L'aouina, Tunis\", 'Prix': '1 200 DT'}, {'_id': ObjectId('675c204e0f8df28e69dfac70'), 'Caracteristiques(Chambres,Douches,Surface)': ['2', 'Chambres', '1', 'Salle', 'de', 'bain', '3', 'Piéces', '(Totale)', '100m²', 'Surf', 'terrain'], 'Emplacements': 'Ennasr, Ariana', 'Prix': '1 250 DT / Mois'}, {'_id': ObjectId('675c204e0f8df28e69dfac71'), 'Caracteristiques(Chambres,Douches,Surface)': ['2', 'Chambres', '1', 'Salle', 'de', 'bain', '3', 'Piéces', '(Totale)', '100m²', 'Surf', 'habitable'], 'Emplacements': \"L'aouina, Tunis\", 'Prix': '1 250 DT / Mois'}, {'_id': ObjectId('675c204e0f8df28e69dfac72'), 'Caracteristiques(Chambres,Douches,Surface)': ['1', 'Chambres', '1', 'Salle', 'de', 'bain', '2', 'Piéces', '(Totale)', '75m²', 'Surf', 'habitable'], 'Emplacements': \"L'aouina, Tunis\", 'Prix': '1 200 DT / Mois'}, {'_id': ObjectId('675c204e0f8df28e69dfac73'), 'Caracteristiques(Chambres,Douches,Surface)': ['4', 'Chambres', '2', 'Salle', 'de', 'bain', '5', 'Piéces', '(Totale)', '209m²', 'Surf', 'habitable'], 'Emplacements': 'Centre Urbain Nord, Tunis', 'Prix': '2 200 DT'}, {'_id': ObjectId('675c204e0f8df28e69dfac74'), 'Caracteristiques(Chambres,Douches,Surface)': ['2', 'Chambres', '1', 'Salle', 'de', 'bain', '3', 'Piéces', '(Totale)', '400m²', 'Surf', 'habitable'], 'Emplacements': \"L'aouina, Tunis\", 'Prix': '1 DT'}, {'_id': ObjectId('675c204e0f8df28e69dfac75'), 'Caracteristiques(Chambres,Douches,Surface)': [], 'Emplacements': 'Douz Nord, Kébili', 'Prix': '1 900 DT'}, {'_id': ObjectId('675c204e0f8df28e69dfac76'), 'Caracteristiques(Chambres,Douches,Surface)': [], 'Emplacements': 'La Marsa, Tunis', 'Prix': '2 000 DT'}, {'_id': ObjectId('675c204e0f8df28e69dfac77'), 'Caracteristiques(Chambres,Douches,Surface)': ['3', 'Chambres', '3', 'Piéces', '(Totale)', '122m²', 'Surf', 'habitable', '122m²', 'Surf', 'terrain'], 'Emplacements': 'La Marsa, Tunis', 'Prix': '250 000 DT'}, {'_id': ObjectId('675c204e0f8df28e69dfac78'), 'Caracteristiques(Chambres,Douches,Surface)': ['2', 'Chambres', '2', 'Salle', 'de', 'bain', '3', 'Piéces', '(Totale)', '120m²', 'Surf', 'habitable'], 'Emplacements': 'Ariana Ville, Ariana', 'Prix': '1 500 DT'}, {'_id': ObjectId('675c204e0f8df28e69dfac79'), 'Caracteristiques(Chambres,Douches,Surface)': ['3', 'Chambres', '1', 'Salle', 'de', 'bain', '4', 'Piéces', '(Totale)', '108m²', 'Surf', 'habitable'], 'Emplacements': 'Ennasr, Ariana', 'Prix': '320 000 DT'}, {'_id': ObjectId('675c204e0f8df28e69dfac7a'), 'Caracteristiques(Chambres,Douches,Surface)': ['1', 'Chambres', '1', 'Salle', 'de', 'bain'], 'Emplacements': 'Dar Châabane El Fehri, Nabeul', 'Prix': '500 DT'}, {'_id': ObjectId('675c204e0f8df28e69dfac7b'), 'Caracteristiques(Chambres,Douches,Surface)': ['2', 'Chambres', '1', 'Salle', 'de', 'bain', '2', 'Piéces', '(Totale)', '110m²', 'Surf', 'habitable', '110m²', 'Surf', 'terrain'], 'Emplacements': 'Sousse Médina, Sousse', 'Prix': '180 000 DT'}, {'_id': ObjectId('675c204e0f8df28e69dfac7c'), 'Caracteristiques(Chambres,Douches,Surface)': ['1', 'Chambres', '1', 'Salle', 'de', 'bain', '2', 'Piéces', '(Totale)', '80m²', 'Surf', 'habitable'], 'Emplacements': 'Kélibia, Nabeul', 'Prix': '1 100 DT'}, {'_id': ObjectId('675c204e0f8df28e69dfac7d'), 'Caracteristiques(Chambres,Douches,Surface)': ['80m²', 'Surf', 'habitable'], 'Emplacements': 'Menzah, Ariana', 'Prix': '210 000 DT'}, {'_id': ObjectId('675c204e0f8df28e69dfac7e'), 'Caracteristiques(Chambres,Douches,Surface)': ['3', 'Chambres', '1', 'Salle', 'de', 'bain', '101m²', 'Surf', 'habitable'], 'Emplacements': 'Tunis centre ville', 'Prix': '1 350 DT'}, {'_id': ObjectId('675c204e0f8df28e69dfac7f'), 'Caracteristiques(Chambres,Douches,Surface)': ['4', 'Chambres', '2', 'Salle', 'de', 'bain', '6', 'Piéces', '(Totale)', '145m²', 'Surf', 'habitable', '144m²', 'Surf', 'terrain'], 'Emplacements': 'Sousse', 'Prix': '220 000 DT'}, {'_id': ObjectId('675c204e0f8df28e69dfac80'), 'Caracteristiques(Chambres,Douches,Surface)': ['3', 'Chambres', '2', 'Salle', 'de', 'bain', '4', 'Piéces', '(Totale)', '130m²', 'Surf', 'habitable', '130m²', 'Surf', 'terrain'], 'Emplacements': 'Sfax', 'Prix': \"Contactez l'annonceur\"}, {'_id': ObjectId('675c204e0f8df28e69dfac81'), 'Caracteristiques(Chambres,Douches,Surface)': ['3', 'Chambres', '2', 'Salle', 'de', 'bain', '4', 'Piéces', '(Totale)', '100m²', 'Surf', 'habitable', '100m²', 'Surf', 'terrain'], 'Emplacements': 'Monastir', 'Prix': '2 200 DT'}, {'_id': ObjectId('675c204e0f8df28e69dfac82'), 'Caracteristiques(Chambres,Douches,Surface)': ['1', 'Chambres', '1', 'Salle', 'de', 'bain', '2', 'Piéces', '(Totale)', '72m²', 'Surf', 'habitable', '109m²', 'Surf', 'terrain'], 'Emplacements': 'Ariana', 'Prix': '2 500 DT'}, {'_id': ObjectId('675c204e0f8df28e69dfac83'), 'Caracteristiques(Chambres,Douches,Surface)': ['2', 'Chambres', '1', 'Salle', 'de', 'bain', '2', 'Piéces', '(Totale)', '100m²', 'Surf', 'habitable', '80m²', 'Surf', 'terrain'], 'Emplacements': 'Hammamet', 'Prix': '250 000 DT'}, {'_id': ObjectId('675c204e0f8df28e69dfac84'), 'Caracteristiques(Chambres,Douches,Surface)': ['5', 'Chambres', '4', 'Salle', 'de', 'bain', '7', 'Piéces', '(Totale)', '400m²', 'Surf', 'habitable', '600m²', 'Surf', 'terrain'], 'Emplacements': 'Tunis', 'Prix': \"Contactez l'annonceur\"}, {'_id': ObjectId('675c204e0f8df28e69dfac85'), 'Caracteristiques(Chambres,Douches,Surface)': [], 'Emplacements': 'Djerba', 'Prix': '12 000 DT / Mois'}, {'_id': ObjectId('675c204e0f8df28e69dfac86'), 'Caracteristiques(Chambres,Douches,Surface)': ['3', 'Chambres', '2', 'Salle', 'de', 'bain', '4', 'Piéces', '(Totale)'], 'Emplacements': 'Nabeul', 'Prix': '1 600 DT / Mois'}, {'_id': ObjectId('675c204e0f8df28e69dfac87'), 'Caracteristiques(Chambres,Douches,Surface)': ['70m²', 'Surf', 'habitable'], 'Emplacements': 'Bizerte', 'Prix': '2 500 DT / Mois'}, {'_id': ObjectId('675c204e0f8df28e69dfac88'), 'Caracteristiques(Chambres,Douches,Surface)': ['2', 'Chambres', '2', 'Piéces', '(Totale)', '140m²', 'Surf', 'habitable', '140m²', 'Surf', 'terrain'], 'Emplacements': 'Raoued', 'Prix': '1 500 DT / Mois'}, {'_id': ObjectId('675c204e0f8df28e69dfac89'), 'Caracteristiques(Chambres,Douches,Surface)': ['1', 'Chambres', '1', 'Salle', 'de', 'bain', '72m²', 'Surf', 'habitable'], 'Emplacements': 'Boumhel', 'Prix': '400 000 DT'}, {'_id': ObjectId('675c204e0f8df28e69dfac8a'), 'Caracteristiques(Chambres,Douches,Surface)': ['1', 'Chambres', '1', 'Salle', 'de', 'bain', '2', 'Piéces', '(Totale)', '100m²', 'Surf', 'habitable', '100m²', 'Surf', 'terrain'], 'Emplacements': 'Hammam Sousse', 'Prix': '225 000 DT'}, {'_id': ObjectId('675c204e0f8df28e69dfac8b'), 'Caracteristiques(Chambres,Douches,Surface)': ['1', 'Chambres', '1', 'Salle', 'de', 'bain', '1', 'Piéces', '(Totale)', '45m²', 'Surf', 'habitable', '45m²', 'Surf', 'terrain'], 'Emplacements': 'Tunis', 'Prix': '320 DT'}, {'_id': ObjectId('675c204e0f8df28e69dfac8c'), 'Caracteristiques(Chambres,Douches,Surface)': ['1', 'Chambres', '1', 'Salle', 'de', 'bain', '2', 'Piéces', '(Totale)', '78m²', 'Surf', 'habitable', '70m²', 'Surf', 'terrain'], 'Emplacements': 'Bizerte', 'Prix': '750 DT / Mois'}, {'_id': ObjectId('675c204e0f8df28e69dfac8d'), 'Caracteristiques(Chambres,Douches,Surface)': ['4', 'Chambres', '2', 'Salle', 'de', 'bain', '5', 'Piéces', '(Totale)', '200m²', 'Surf', 'habitable', '209m²', 'Surf', 'terrain'], 'Emplacements': 'Ben Arous', 'Prix': '1 200 DT'}, {'_id': ObjectId('675c204e0f8df28e69dfac8e'), 'Caracteristiques(Chambres,Douches,Surface)': ['2', 'Chambres', '1', 'Salle', 'de', 'bain', '3', 'Piéces', '(Totale)', '100m²', 'Surf', 'habitable'], 'Emplacements': 'Sousse', 'Prix': '2 200 DT'}, {'_id': ObjectId('675c204e0f8df28e69dfac8f'), 'Caracteristiques(Chambres,Douches,Surface)': ['5', 'Chambres', '2', 'Salle', 'de', 'bain', '8', 'Piéces', '(Totale)', '144m²', 'Surf', 'habitable', '144m²', 'Surf', 'terrain'], 'Emplacements': 'Sfax', 'Prix': '1 250 DT / Mois'}, {'_id': ObjectId('675c204e0f8df28e69dfac90'), 'Caracteristiques(Chambres,Douches,Surface)': ['1', 'Chambres', '1', 'Piéces', '(Totale)', '52m²', 'Surf', 'habitable', '52m²', 'Surf', 'terrain'], 'Emplacements': 'Agence immobiliere la marsa', 'Prix': '22 DT'}, {'_id': ObjectId('675c204e0f8df28e69dfac91'), 'Caracteristiques(Chambres,Douches,Surface)': ['3', 'Chambres', '1', 'Salle', 'de', 'bain', '7', 'Piéces', '(Totale)'], 'Emplacements': 'Agence immobiliere hammamet', 'Prix': '167 000 DT'}, {'_id': ObjectId('675c204e0f8df28e69dfac92'), 'Caracteristiques(Chambres,Douches,Surface)': ['4', 'Chambres', '2', 'Salle', 'de', 'bain', '7', 'Piéces', '(Totale)', '180m²', 'Surf', 'habitable', '700m²', 'Surf', 'terrain'], 'Emplacements': 'Agence immobiliere sousse', 'Prix': '210 000 DT'}, {'_id': ObjectId('675c204e0f8df28e69dfac93'), 'Caracteristiques(Chambres,Douches,Surface)': ['3', 'Chambres', '1', 'Salle', 'de', 'bain', '7', 'Piéces', '(Totale)', '143m²', 'Surf', 'habitable', '500m²', 'Surf', 'terrain'], 'Emplacements': 'Agence immobiliere nabeul', 'Prix': '250 000 DT'}, {'_id': ObjectId('675c204e0f8df28e69dfac94'), 'Caracteristiques(Chambres,Douches,Surface)': ['2', 'Chambres', '1', 'Salle', 'de', 'bain', '7', 'Piéces', '(Totale)'], 'Emplacements': 'Agence immobiliere djerba', 'Prix': '420 000 DT'}, {'_id': ObjectId('675c204e0f8df28e69dfac95'), 'Caracteristiques(Chambres,Douches,Surface)': ['3', 'Chambres', '2', 'Salle', 'de', 'bain', '9', 'Piéces', '(Totale)', '198m²', 'Surf', 'habitable', '528m²', 'Surf', 'terrain'], 'Emplacements': 'Agence immobiliere monastir', 'Prix': '250 000 DT'}, {'_id': ObjectId('675c204e0f8df28e69dfac96'), 'Caracteristiques(Chambres,Douches,Surface)': ['3', 'Chambres', '3', 'Salle', 'de', 'bain', '8', 'Piéces', '(Totale)'], 'Emplacements': 'NEWSLETTER Obtenir nos meilleurs offres par Email:', 'Prix': '2 200 DT'}, {'_id': ObjectId('675c204e0f8df28e69dfac97'), 'Caracteristiques(Chambres,Douches,Surface)': ['3', 'Chambres', '2', 'Salle', 'de', 'bain', '9', 'Piéces', '(Totale)', '198m²', 'Surf', 'habitable', '528m²', 'Surf', 'terrain'], 'Emplacements': '© 2017 www.menzili.tn | Tous droits réservés.', 'Prix': '2 550 DT'}, {'_id': ObjectId('675c204e0f8df28e69dfac98'), 'Caracteristiques(Chambres,Douches,Surface)': ['3', 'Chambres', '2', 'Salle', 'de', 'bain', '6', 'Piéces', '(Totale)', '150m²', 'Surf', 'habitable', '450m²', 'Surf', 'terrain'], 'Emplacements': 'En poursuivant votre navigation sur notre site, vous acceptez l’utilisation de Cookies.AccepterEn savoir plus', 'Prix': '280 DT'}, {'_id': ObjectId('675c204e0f8df28e69dfac99'), 'Caracteristiques(Chambres,Douches,Surface)': ['8', 'Chambres', '2', 'Salle', 'de', 'bain', '180m²', 'Surf', 'habitable', '450m²', 'Surf', 'terrain'], 'Emplacements': 'Menzah, Ariana', 'Prix': '700 000 DT'}, {'_id': ObjectId('675c204e0f8df28e69dfac9a'), 'Caracteristiques(Chambres,Douches,Surface)': ['2', 'Chambres', '1', 'Salle', 'de', 'bain', '3', 'Piéces', '(Totale)', '180m²', 'Surf', 'habitable', '399m²', 'Surf', 'terrain'], 'Emplacements': 'Denden, Manouba', 'Prix': \"Contactez l'annonceur\"}, {'_id': ObjectId('675c204e0f8df28e69dfac9b'), 'Caracteristiques(Chambres,Douches,Surface)': [], 'Emplacements': 'Ezzahra, Ben Arous', 'Prix': '165 000 DT'}, {'_id': ObjectId('675c204e0f8df28e69dfac9c'), 'Caracteristiques(Chambres,Douches,Surface)': ['3', 'Chambres', '2', 'Salle', 'de', 'bain', '9', 'Piéces', '(Totale)'], 'Emplacements': 'La Marsa, Tunis', 'Prix': '283 000 DT'}, {'_id': ObjectId('675c204e0f8df28e69dfac9d'), 'Caracteristiques(Chambres,Douches,Surface)': ['3', 'Chambres', '2', 'Salle', 'de', 'bain', '8', 'Piéces', '(Totale)'], 'Emplacements': 'Sidi Bou Said, Tunis', 'Prix': '300 000 DT'}, {'_id': ObjectId('675c204e0f8df28e69dfac9e'), 'Caracteristiques(Chambres,Douches,Surface)': ['3', 'Chambres', '1', 'Salle', 'de', 'bain', '7', 'Piéces', '(Totale)'], 'Emplacements': 'Mrezga, Nabeul', 'Prix': '235 DT / Nuit'}, {'_id': ObjectId('675c204e0f8df28e69dfac9f'), 'Caracteristiques(Chambres,Douches,Surface)': ['3', 'Chambres', '3', 'Salle', 'de', 'bain', '7', 'Piéces', '(Totale)'], 'Emplacements': 'Le Bardo, Tunis', 'Prix': '450 DT / Nuit'}, {'_id': ObjectId('675c204e0f8df28e69dfaca0'), 'Caracteristiques(Chambres,Douches,Surface)': ['2', 'Chambres', '2', 'Salle', 'de', 'bain', '6', 'Piéces', '(Totale)'], 'Emplacements': 'La Marsa, Tunis', 'Prix': '3 150 DT'}, {'_id': ObjectId('675c204e0f8df28e69dfaca1'), 'Caracteristiques(Chambres,Douches,Surface)': ['3', 'Chambres', '3', 'Salle', 'de', 'bain', '9', 'Piéces', '(Totale)'], 'Emplacements': 'Hammamet, Nabeul', 'Prix': '280 DT'}, {'_id': ObjectId('675c204e0f8df28e69dfaca2'), 'Caracteristiques(Chambres,Douches,Surface)': ['3', 'Chambres', '2', 'Salle', 'de', 'bain', '6', 'Piéces', '(Totale)'], 'Emplacements': 'Les Berges Du Lac, Tunis', 'Prix': '3 500 DT'}, {'_id': ObjectId('675c204e0f8df28e69dfaca3'), 'Caracteristiques(Chambres,Douches,Surface)': ['2', 'Chambres', '1', 'Salle', 'de', 'bain', '6', 'Piéces', '(Totale)'], 'Emplacements': 'Monastir, Monastir', 'Prix': '2 700 DT'}, {'_id': ObjectId('675c204e0f8df28e69dfaca4'), 'Caracteristiques(Chambres,Douches,Surface)': ['4', 'Chambres', '2', 'Salle', 'de', 'bain', '10+', 'Piéces', '(Totale)'], 'Emplacements': 'Nabeul, Nabeul', 'Prix': '2 500 DT'}, {'_id': ObjectId('675c204e0f8df28e69dfaca5'), 'Caracteristiques(Chambres,Douches,Surface)': ['3', 'Chambres', '2', 'Salle', 'de', 'bain', '7', 'Piéces', '(Totale)'], 'Emplacements': 'Sousse Jawhara, Sousse', 'Prix': '3 500 DT'}, {'_id': ObjectId('675c204e0f8df28e69dfaca6'), 'Caracteristiques(Chambres,Douches,Surface)': ['3', 'Chambres', '2', 'Salle', 'de', 'bain', '6', 'Piéces', '(Totale)'], 'Emplacements': 'Ennasr, Ariana', 'Prix': '6 000 DT'}, {'_id': ObjectId('675c204e0f8df28e69dfaca7'), 'Caracteristiques(Chambres,Douches,Surface)': ['4', 'Chambres', '2', 'Salle', 'de', 'bain', '9', 'Piéces', '(Totale)'], 'Emplacements': 'Ghazela, Ariana', 'Prix': '2 200 000 DT'}, {'_id': ObjectId('675c204e0f8df28e69dfaca8'), 'Caracteristiques(Chambres,Douches,Surface)': ['2', 'Chambres', '1', 'Salle', 'de', 'bain', '6', 'Piéces', '(Totale)'], 'Emplacements': 'Ennasr, Ariana', 'Prix': '3 500 DT'}, {'_id': ObjectId('675c204e0f8df28e69dfaca9'), 'Caracteristiques(Chambres,Douches,Surface)': ['4', 'Chambres', '3', 'Salle', 'de', 'bain', '10+', 'Piéces', '(Totale)'], 'Emplacements': \"L'aouina, Tunis\", 'Prix': '1 800 DT / Semaine'}, {'_id': ObjectId('675c204e0f8df28e69dfacaa'), 'Caracteristiques(Chambres,Douches,Surface)': ['2', 'Chambres', '1', 'Salle', 'de', 'bain', '5', 'Piéces', '(Totale)'], 'Emplacements': \"L'aouina, Tunis\", 'Prix': '2 300 DT / Semaine'}, {'_id': ObjectId('675c204e0f8df28e69dfacab'), 'Caracteristiques(Chambres,Douches,Surface)': ['2', 'Chambres', '1', 'Salle', 'de', 'bain', '5', 'Piéces', '(Totale)'], 'Emplacements': 'Ezzahra, Ben Arous', 'Prix': '2 400 DT / Semaine'}, {'_id': ObjectId('675c204e0f8df28e69dfacac'), 'Caracteristiques(Chambres,Douches,Surface)': ['3', 'Chambres', '2', 'Salle', 'de', 'bain', '6', 'Piéces', '(Totale)', '140m²', 'Surf', 'habitable', '450m²', 'Surf', 'terrain'], 'Emplacements': 'La Marsa, Tunis', 'Prix': '4 000 DT'}, {'_id': ObjectId('675c204e0f8df28e69dfacad'), 'Caracteristiques(Chambres,Douches,Surface)': ['3', 'Chambres', '2', 'Salle', 'de', 'bain', '6', 'Piéces', '(Totale)', '150m²', 'Surf', 'habitable', '450m²', 'Surf', 'terrain'], 'Emplacements': 'Tunis centre ville', 'Prix': '1 800 DT'}, {'_id': ObjectId('675c204e0f8df28e69dfacae'), 'Caracteristiques(Chambres,Douches,Surface)': ['3', 'Chambres', '1', 'Salle', 'de', 'bain', '6', 'Piéces', '(Totale)', '121m²', 'Surf', 'habitable', '450m²', 'Surf', 'terrain'], 'Emplacements': 'Sousse', 'Prix': '1 500 DT / Semaine'}, {'_id': ObjectId('675c204e0f8df28e69dfacaf'), 'Caracteristiques(Chambres,Douches,Surface)': ['3', 'Chambres', '1', 'Salle', 'de', 'bain', '4', 'Piéces', '(Totale)', '170m²', 'Surf', 'habitable', '170m²', 'Surf', 'terrain'], 'Emplacements': 'Sfax', 'Prix': '299 000 DT'}, {'_id': ObjectId('675c204e0f8df28e69dfacb0'), 'Caracteristiques(Chambres,Douches,Surface)': ['400m²', 'Surf', 'habitable'], 'Emplacements': 'Monastir', 'Prix': \"Contactez l'annonceur\"}, {'_id': ObjectId('675c204e0f8df28e69dfacb1'), 'Caracteristiques(Chambres,Douches,Surface)': [], 'Emplacements': 'Ariana', 'Prix': \"Contactez l'annonceur\"}, {'_id': ObjectId('675c204e0f8df28e69dfacb2'), 'Caracteristiques(Chambres,Douches,Surface)': ['2', 'Chambres', '1', 'Salle', 'de', 'bain', '3', 'Piéces', '(Totale)', '150m²', 'Surf', 'habitable', '285m²', 'Surf', 'terrain'], 'Emplacements': 'Hammamet', 'Prix': '50 DT'}, {'_id': ObjectId('675c204e0f8df28e69dfacb3'), 'Caracteristiques(Chambres,Douches,Surface)': ['4', 'Chambres', '3', 'Salle', 'de', 'bain', '300m²', 'Surf', 'habitable', '500m²', 'Surf', 'terrain'], 'Emplacements': 'Tunis', 'Prix': '2 000 DT'}, {'_id': ObjectId('675c204e0f8df28e69dfacb4'), 'Caracteristiques(Chambres,Douches,Surface)': ['3', 'Chambres', '2', 'Salle', 'de', 'bain', '180m²', 'Surf', 'habitable', '180m²', 'Surf', 'terrain'], 'Emplacements': 'Djerba', 'Prix': \"Contactez l'annonceur\"}, {'_id': ObjectId('675c204e0f8df28e69dfacb5'), 'Caracteristiques(Chambres,Douches,Surface)': ['6', 'Chambres', '4', 'Salle', 'de', 'bain', '10+', 'Piéces', '(Totale)', '1000m²', 'Surf', 'habitable', '1000m²', 'Surf', 'terrain'], 'Emplacements': 'Nabeul', 'Prix': '235 000 DT'}, {'_id': ObjectId('675c204e0f8df28e69dfacb6'), 'Caracteristiques(Chambres,Douches,Surface)': ['4', 'Chambres', '4', 'Salle', 'de', 'bain', '7', 'Piéces', '(Totale)', '500m²', 'Surf', 'habitable', '2000m²', 'Surf', 'terrain'], 'Emplacements': 'Bizerte', 'Prix': '750 000 DT'}, {'_id': ObjectId('675c204e0f8df28e69dfacb7'), 'Caracteristiques(Chambres,Douches,Surface)': [], 'Emplacements': 'Raoued', 'Prix': '270 000 DT'}, {'_id': ObjectId('675c204e0f8df28e69dfacb8'), 'Caracteristiques(Chambres,Douches,Surface)': [], 'Emplacements': 'Boumhel', 'Prix': '3 DT'}, {'_id': ObjectId('675c204e0f8df28e69dfacb9'), 'Caracteristiques(Chambres,Douches,Surface)': ['605m²', 'Surf', 'terrain'], 'Emplacements': 'Hammam Sousse', 'Prix': '4 000 DT'}, {'_id': ObjectId('675c204e0f8df28e69dfacba'), 'Caracteristiques(Chambres,Douches,Surface)': ['1548m²', 'Surf', 'terrain'], 'Emplacements': 'Tunis', 'Prix': '700 000 DT'}, {'_id': ObjectId('675c204e0f8df28e69dfacbb'), 'Caracteristiques(Chambres,Douches,Surface)': [], 'Emplacements': 'Bizerte', 'Prix': '780 000 DT'}, {'_id': ObjectId('675c204e0f8df28e69dfacbc'), 'Caracteristiques(Chambres,Douches,Surface)': ['7000m²', 'Surf', 'terrain'], 'Emplacements': 'Ben Arous', 'Prix': '2 200 000 DT'}, {'_id': ObjectId('675c204e0f8df28e69dfacbd'), 'Caracteristiques(Chambres,Douches,Surface)': ['5260m²', 'Surf', 'terrain'], 'Emplacements': 'Sousse', 'Prix': '350 000 DT'}, {'_id': ObjectId('675c204e0f8df28e69dfacbe'), 'Caracteristiques(Chambres,Douches,Surface)': ['588m²', 'Surf', 'terrain'], 'Emplacements': 'Sfax', 'Prix': '90 DT'}, {'_id': ObjectId('675c204e0f8df28e69dfacbf'), 'Caracteristiques(Chambres,Douches,Surface)': ['1200m²', 'Surf', 'terrain'], 'Emplacements': 'Agence immobiliere la marsa', 'Prix': '350 DT'}, {'_id': ObjectId('675c204e0f8df28e69dfacc0'), 'Caracteristiques(Chambres,Douches,Surface)': ['2400m²', 'Surf', 'terrain'], 'Emplacements': 'Agence immobiliere hammamet', 'Prix': '70 DT'}, {'_id': ObjectId('675c204e0f8df28e69dfacc1'), 'Caracteristiques(Chambres,Douches,Surface)': ['2450m²', 'Surf', 'terrain'], 'Emplacements': 'Agence immobiliere sousse', 'Prix': '95 DT'}, {'_id': ObjectId('675c204e0f8df28e69dfacc2'), 'Caracteristiques(Chambres,Douches,Surface)': ['423m²', 'Surf', 'terrain'], 'Emplacements': 'Agence immobiliere nabeul', 'Prix': \"Contactez l'annonceur\"}, {'_id': ObjectId('675c204e0f8df28e69dfacc3'), 'Caracteristiques(Chambres,Douches,Surface)': ['2100m²', 'Surf', 'terrain'], 'Emplacements': 'Agence immobiliere djerba', 'Prix': '1 080 000 DT'}, {'_id': ObjectId('675c204e0f8df28e69dfacc4'), 'Caracteristiques(Chambres,Douches,Surface)': ['318m²', 'Surf', 'terrain'], 'Emplacements': 'Agence immobiliere monastir', 'Prix': '300 DT'}, {'_id': ObjectId('675c204e0f8df28e69dfacc5'), 'Caracteristiques(Chambres,Douches,Surface)': ['14000m²', 'Surf', 'terrain'], 'Emplacements': 'NEWSLETTER Obtenir nos meilleurs offres par Email:', 'Prix': '360 000 DT'}, {'_id': ObjectId('675c204e0f8df28e69dfacc6'), 'Caracteristiques(Chambres,Douches,Surface)': ['832m²', 'Surf', 'terrain'], 'Emplacements': '© 2017 www.menzili.tn | Tous droits réservés.', 'Prix': '380 000 DT'}, {'_id': ObjectId('675c204e0f8df28e69dfacc7'), 'Caracteristiques(Chambres,Douches,Surface)': ['632m²', 'Surf', 'terrain'], 'Emplacements': 'En poursuivant votre navigation sur notre site, vous acceptez l’utilisation de Cookies.AccepterEn savoir plus', 'Prix': '400 000 DT'}, {'_id': ObjectId('675c204e0f8df28e69dfacc8'), 'Caracteristiques(Chambres,Douches,Surface)': ['1279m²', 'Surf', 'terrain'], 'Emplacements': 'Djerba-Houmt Souk, Médenine', 'Prix': '133 560 DT'}, {'_id': ObjectId('675c204e0f8df28e69dfacc9'), 'Caracteristiques(Chambres,Douches,Surface)': ['200m²', 'Surf', 'terrain'], 'Emplacements': 'Djerba-Houmt Souk, Médenine', 'Prix': '150 DT'}, {'_id': ObjectId('675c204e0f8df28e69dfacca'), 'Caracteristiques(Chambres,Douches,Surface)': ['643m²', 'Surf', 'terrain'], 'Emplacements': 'Djerba-Houmt Souk, Médenine', 'Prix': '270 DT'}, {'_id': ObjectId('675c204e0f8df28e69dfaccb'), 'Caracteristiques(Chambres,Douches,Surface)': [], 'Emplacements': 'Djerba-Houmt Souk, Médenine', 'Prix': '170 600 DT'}, {'_id': ObjectId('675c204e0f8df28e69dfaccc'), 'Caracteristiques(Chambres,Douches,Surface)': ['425000m²', 'Surf', 'terrain'], 'Emplacements': 'Djerba-Houmt Souk, Médenine', 'Prix': '1 900 000 DT'}, {'_id': ObjectId('675c204e0f8df28e69dfaccd'), 'Caracteristiques(Chambres,Douches,Surface)': ['65000m²', 'Surf', 'terrain'], 'Emplacements': 'Djerba-Houmt Souk, Médenine', 'Prix': \"Contactez l'annonceur\"}, {'_id': ObjectId('675c204e0f8df28e69dfacce'), 'Caracteristiques(Chambres,Douches,Surface)': ['411m²', 'Surf', 'terrain'], 'Emplacements': 'Djerba-Houmt Souk, Médenine', 'Prix': '85 000 DT'}, {'_id': ObjectId('675c204e0f8df28e69dfaccf'), 'Caracteristiques(Chambres,Douches,Surface)': ['523m²', 'Surf', 'terrain'], 'Emplacements': 'Djerba-Houmt Souk, Médenine', 'Prix': \"Contactez l'annonceur\"}, {'_id': ObjectId('675c204e0f8df28e69dfacd0'), 'Caracteristiques(Chambres,Douches,Surface)': ['240m²', 'Surf', 'terrain'], 'Emplacements': 'Fériana, Kasserine', 'Prix': '65 000 DT'}, {'_id': ObjectId('675c204e0f8df28e69dfacd1'), 'Caracteristiques(Chambres,Douches,Surface)': ['400m²', 'Surf', 'terrain'], 'Emplacements': 'Djerba-Houmt Souk, Médenine', 'Prix': '90 000 DT'}, {'_id': ObjectId('675c204e0f8df28e69dfacd2'), 'Caracteristiques(Chambres,Douches,Surface)': ['681m²', 'Surf', 'terrain'], 'Emplacements': 'Djerba-Houmt Souk, Médenine', 'Prix': '1 150 000 DT'}, {'_id': ObjectId('675c204e0f8df28e69dfacd3'), 'Caracteristiques(Chambres,Douches,Surface)': ['592m²', 'Surf', 'terrain'], 'Emplacements': 'Djerba-Houmt Souk, Médenine', 'Prix': '500 DT'}, {'_id': ObjectId('675c204e0f8df28e69dfacd4'), 'Caracteristiques(Chambres,Douches,Surface)': ['1200m²', 'Surf', 'terrain'], 'Emplacements': 'Djerba-Houmt Souk, Médenine', 'Prix': '1 200 DT'}, {'_id': ObjectId('675c204e0f8df28e69dfacd5'), 'Caracteristiques(Chambres,Douches,Surface)': ['268m²', 'Surf', 'terrain'], 'Emplacements': 'Djerba-Houmt Souk, Médenine', 'Prix': \"Contactez l'annonceur\"}, {'_id': ObjectId('675c204e0f8df28e69dfacd6'), 'Caracteristiques(Chambres,Douches,Surface)': ['624m²', 'Surf', 'terrain'], 'Emplacements': 'Djerba - Midoun, Médenine', 'Prix': '460 000 DT'}, {'_id': ObjectId('675c204e0f8df28e69dfacd7'), 'Caracteristiques(Chambres,Douches,Surface)': ['10000m²', 'Surf', 'terrain'], 'Emplacements': 'Djerba - Midoun, Médenine', 'Prix': '860 000 DT'}, {'_id': ObjectId('675c204e0f8df28e69dfacd8'), 'Caracteristiques(Chambres,Douches,Surface)': ['5105m²', 'Surf', 'terrain'], 'Emplacements': 'Djerba-Houmt Souk, Médenine', 'Prix': '1 420 000 DT'}, {'_id': ObjectId('675c204e0f8df28e69dfacd9'), 'Caracteristiques(Chambres,Douches,Surface)': ['3717m²', 'Surf', 'terrain'], 'Emplacements': 'Djerba-Houmt Souk, Médenine', 'Prix': '6 000 000 DT'}, {'_id': ObjectId('675c204e0f8df28e69dfacda'), 'Caracteristiques(Chambres,Douches,Surface)': ['2050m²', 'Surf', 'terrain'], 'Emplacements': 'Djerba-Houmt Souk, Médenine', 'Prix': '145 000 DT'}, {'_id': ObjectId('675c204e0f8df28e69dfacdb'), 'Caracteristiques(Chambres,Douches,Surface)': ['70000m²', 'Surf', 'terrain'], 'Emplacements': 'Djerba-Houmt Souk, Médenine', 'Prix': '1 497 000 DT'}, {'_id': ObjectId('675c204e0f8df28e69dfacdc'), 'Caracteristiques(Chambres,Douches,Surface)': ['21000m²', 'Surf', 'terrain'], 'Emplacements': 'Tunis centre ville', 'Prix': '1 000 000 DT'}, {'_id': ObjectId('675c204e0f8df28e69dfacdd'), 'Caracteristiques(Chambres,Douches,Surface)': ['480000m²', 'Surf', 'terrain'], 'Emplacements': 'Sousse', 'Prix': '105 000 DT'}, {'_id': ObjectId('675c204e0f8df28e69dfacde'), 'Caracteristiques(Chambres,Douches,Surface)': [], 'Emplacements': 'Sfax', 'Prix': '79 000 DT'}, {'_id': ObjectId('675c204e0f8df28e69dfacdf'), 'Caracteristiques(Chambres,Douches,Surface)': ['250m²', 'Surf', 'terrain'], 'Emplacements': 'Monastir', 'Prix': '2 600 000 DT'}, {'_id': ObjectId('675c204e0f8df28e69dface0'), 'Caracteristiques(Chambres,Douches,Surface)': ['257m²', 'Surf', 'terrain'], 'Emplacements': 'Ariana', 'Prix': \"Contactez l'annonceur\"}, {'_id': ObjectId('675c204e0f8df28e69dface1'), 'Caracteristiques(Chambres,Douches,Surface)': ['2', 'Chambres', '1', 'Salle', 'de', 'bain', '5', 'Piéces', '(Totale)'], 'Emplacements': 'Hammamet', 'Prix': \"Contactez l'annonceur\"}, {'_id': ObjectId('675c204e0f8df28e69dface2'), 'Caracteristiques(Chambres,Douches,Surface)': ['2', 'Chambres', '1', 'Salle', 'de', 'bain', '5', 'Piéces', '(Totale)'], 'Emplacements': 'Tunis', 'Prix': \"Contactez l'annonceur\"}, {'_id': ObjectId('675c204e0f8df28e69dface3'), 'Caracteristiques(Chambres,Douches,Surface)': ['2', 'Chambres', '1', 'Salle', 'de', 'bain', '5', 'Piéces', '(Totale)'], 'Emplacements': 'Djerba', 'Prix': '3 200 000 000 DT'}, {'_id': ObjectId('675c204e0f8df28e69dface4'), 'Caracteristiques(Chambres,Douches,Surface)': ['2', 'Chambres', '1', 'Salle', 'de', 'bain', '5', 'Piéces', '(Totale)'], 'Emplacements': 'Nabeul', 'Prix': '250 DT'}, {'_id': ObjectId('675c204e0f8df28e69dface5'), 'Caracteristiques(Chambres,Douches,Surface)': ['2', 'Chambres', '1', 'Salle', 'de', 'bain', '5', 'Piéces', '(Totale)'], 'Emplacements': 'Bizerte', 'Prix': '360 DT'}, {'_id': ObjectId('675c204e0f8df28e69dface6'), 'Caracteristiques(Chambres,Douches,Surface)': ['4', 'Chambres', '2', 'Salle', 'de', 'bain', '5', 'Piéces', '(Totale)', '200m²', 'Surf', 'habitable', '209m²', 'Surf', 'terrain'], 'Emplacements': 'Raoued', 'Prix': '70 000 DT'}]\n"
     ]
    }
   ],
   "source": [
    "client=MongoClient('mongodb://localhost:27017/')\n",
    "with client:\n",
    "    db=client.immobilieres\n",
    "    annonces=db.annonces.find()\n",
    "    annonces.next()\n",
    "    annonces.next()\n",
    "    annonces.next()\n",
    "    annonces.next()\n",
    "    annonces.next()\n",
    "    annonces.next()\n",
    "    annonces.rewind()\n",
    "    print(list(annonces))"
   ]
  },
  {
   "cell_type": "code",
   "execution_count": 17,
   "id": "0b6b37ad",
   "metadata": {},
   "outputs": [],
   "source": [
    "driver.quit()"
   ]
  },
  {
   "cell_type": "code",
   "execution_count": 18,
   "id": "22512e99",
   "metadata": {},
   "outputs": [
    {
     "name": "stdout",
     "output_type": "stream",
     "text": [
      "Il existe 126 annonces immobilières\n"
     ]
    }
   ],
   "source": [
    "client=MongoClient('mongodb://localhost:27017/')\n",
    "with client:\n",
    "    db=client.immobilieres\n",
    "    print(f\"Il existe {db.annonces.count_documents({})} annonces immobilières\")"
   ]
  },
  {
   "cell_type": "code",
   "execution_count": null,
   "id": "ecfd491b",
   "metadata": {},
   "outputs": [],
   "source": []
  }
 ],
 "metadata": {
  "kernelspec": {
   "display_name": "Python 3 (ipykernel)",
   "language": "python",
   "name": "python3"
  },
  "language_info": {
   "codemirror_mode": {
    "name": "ipython",
    "version": 3
   },
   "file_extension": ".py",
   "mimetype": "text/x-python",
   "name": "python",
   "nbconvert_exporter": "python",
   "pygments_lexer": "ipython3",
   "version": "3.11.5"
  }
 },
 "nbformat": 4,
 "nbformat_minor": 5
}
