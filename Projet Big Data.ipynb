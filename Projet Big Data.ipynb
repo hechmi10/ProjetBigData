{
 "cells": [
  {
   "cell_type": "code",
   "execution_count": 1,
   "id": "615e935a",
   "metadata": {},
   "outputs": [],
   "source": [
    "from selenium import webdriver\n",
    "from pymongo import MongoClient\n",
    "import re"
   ]
  },
  {
   "cell_type": "code",
   "execution_count": 2,
   "id": "9faddf59",
   "metadata": {},
   "outputs": [],
   "source": [
    "from selenium.webdriver.common.keys import Keys"
   ]
  },
  {
   "cell_type": "code",
   "execution_count": 3,
   "id": "7c2c6d5b",
   "metadata": {},
   "outputs": [],
   "source": [
    "import pandas as pd"
   ]
  },
  {
   "cell_type": "code",
   "execution_count": 4,
   "id": "eede4c9f",
   "metadata": {},
   "outputs": [],
   "source": [
    "from selenium.webdriver.chrome.service import Service\n",
    "from selenium.webdriver.common.by import By"
   ]
  },
  {
   "cell_type": "code",
   "execution_count": 5,
   "id": "8089521e",
   "metadata": {},
   "outputs": [
    {
     "data": {
      "text/html": [
       "<div>\n",
       "<style scoped>\n",
       "    .dataframe tbody tr th:only-of-type {\n",
       "        vertical-align: middle;\n",
       "    }\n",
       "\n",
       "    .dataframe tbody tr th {\n",
       "        vertical-align: top;\n",
       "    }\n",
       "\n",
       "    .dataframe thead th {\n",
       "        text-align: right;\n",
       "    }\n",
       "</style>\n",
       "<table border=\"1\" class=\"dataframe\">\n",
       "  <thead>\n",
       "    <tr style=\"text-align: right;\">\n",
       "      <th></th>\n",
       "      <th>Caractéristiques(Chambres,Douches et Surfaces)</th>\n",
       "      <th>Emplacements</th>\n",
       "      <th>Prix</th>\n",
       "    </tr>\n",
       "  </thead>\n",
       "  <tbody>\n",
       "  </tbody>\n",
       "</table>\n",
       "</div>"
      ],
      "text/plain": [
       "Empty DataFrame\n",
       "Columns: [Caractéristiques(Chambres,Douches et Surfaces), Emplacements, Prix]\n",
       "Index: []"
      ]
     },
     "execution_count": 5,
     "metadata": {},
     "output_type": "execute_result"
    }
   ],
   "source": [
    "pd.DataFrame(columns=[\"Caractéristiques(Chambres,Douches et Surfaces)\",\"Emplacements\",\"Prix\"])"
   ]
  },
  {
   "cell_type": "code",
   "execution_count": 6,
   "id": "59ea1312",
   "metadata": {},
   "outputs": [],
   "source": [
    "service=Service('C:/Users/hechm/Downloads/chromedriver-win64/chromedriver-win64/chromedriver.exe')"
   ]
  },
  {
   "cell_type": "code",
   "execution_count": 7,
   "id": "a05231e4",
   "metadata": {},
   "outputs": [],
   "source": [
    "driver=webdriver.Chrome(service=service)"
   ]
  },
  {
   "cell_type": "code",
   "execution_count": 8,
   "id": "d2605caa",
   "metadata": {},
   "outputs": [],
   "source": [
    "driver.get('https://www.menzili.tn/')"
   ]
  },
  {
   "cell_type": "code",
   "execution_count": 9,
   "id": "7d24aebc",
   "metadata": {
    "scrolled": false
   },
   "outputs": [],
   "source": [
    "caracteristiques=driver.find_elements(By.CLASS_NAME,'info-box')\n",
    "emplacements = driver.find_elements(By.CLASS_NAME, 'block-adress')\n",
    "prix = driver.find_elements(By.CLASS_NAME, 'item-box-price')"
   ]
  },
  {
   "cell_type": "code",
   "execution_count": 10,
   "id": "1400b25b",
   "metadata": {},
   "outputs": [
    {
     "name": "stdout",
     "output_type": "stream",
     "text": [
      "[['3', '2', '198m²'], ['2', '1'], ['5260m²'], ['7000m²'], ['3', '3'], ['3', '2', '198m²'], ['605m²']]\n"
     ]
    }
   ],
   "source": [
    "caracteristiques_list=[]\n",
    "for l in caracteristiques:\n",
    "    caracteristiques_list.append(l.text.split())\n",
    "print(caracteristiques_list)\n",
    "chambres_list=[]\n",
    "for m in caracteristiques_list:\n",
    "    for c in m:\n",
    "        \n",
    "        chambres_list.append(c)\n",
    "douches_list=[]\n",
    "for n in caracteristiques_list:\n",
    "    for d in n:\n",
    "        douches_list.append(d)\n",
    "surfaces_list=[]\n",
    "for o in caracteristiques_list:\n",
    "    for s in o:\n",
    "        surfaces_list.append(s)\n",
    "emplacements_list=[]\n",
    "for e in emplacements:\n",
    "    emplacements_list.append(e.text.strip())\n",
    "prix_list=[]\n",
    "for p in prix:\n",
    "    prix_list.append(p.text.strip())"
   ]
  },
  {
   "cell_type": "code",
   "execution_count": 11,
   "id": "98c17b50",
   "metadata": {},
   "outputs": [
    {
     "data": {
      "text/html": [
       "<div>\n",
       "<style scoped>\n",
       "    .dataframe tbody tr th:only-of-type {\n",
       "        vertical-align: middle;\n",
       "    }\n",
       "\n",
       "    .dataframe tbody tr th {\n",
       "        vertical-align: top;\n",
       "    }\n",
       "\n",
       "    .dataframe thead th {\n",
       "        text-align: right;\n",
       "    }\n",
       "</style>\n",
       "<table border=\"1\" class=\"dataframe\">\n",
       "  <thead>\n",
       "    <tr style=\"text-align: right;\">\n",
       "      <th></th>\n",
       "      <th>Caractéristiques(Chambres,Douches et Surfaces)</th>\n",
       "      <th>Emplacements</th>\n",
       "      <th>Prix</th>\n",
       "    </tr>\n",
       "  </thead>\n",
       "  <tbody>\n",
       "    <tr>\n",
       "      <th>0</th>\n",
       "      <td>[3, 2, 198m²]</td>\n",
       "      <td>DJERBA-HOUMT SOUK, MÉDENINE</td>\n",
       "      <td>700 000 DT</td>\n",
       "    </tr>\n",
       "    <tr>\n",
       "      <th>1</th>\n",
       "      <td>[2, 1]</td>\n",
       "      <td>DJERBA-HOUMT SOUK, MÉDENINE</td>\n",
       "      <td>2 200 DT / Mois</td>\n",
       "    </tr>\n",
       "    <tr>\n",
       "      <th>2</th>\n",
       "      <td>[5260m²]</td>\n",
       "      <td>DJERBA-HOUMT SOUK, MÉDENINE</td>\n",
       "      <td>95 DT</td>\n",
       "    </tr>\n",
       "    <tr>\n",
       "      <th>3</th>\n",
       "      <td>[7000m²]</td>\n",
       "      <td>DJERBA - AJIM, MÉDENINE</td>\n",
       "      <td>70 DT</td>\n",
       "    </tr>\n",
       "    <tr>\n",
       "      <th>4</th>\n",
       "      <td>[3, 3]</td>\n",
       "      <td>DJERBA-HOUMT SOUK, MÉDENINE</td>\n",
       "      <td>280 DT / Nuit</td>\n",
       "    </tr>\n",
       "    <tr>\n",
       "      <th>5</th>\n",
       "      <td>[3, 2, 198m²]</td>\n",
       "      <td>DJERBA-HOUMT SOUK, MÉDENINE</td>\n",
       "      <td>2 550 DT / Mois</td>\n",
       "    </tr>\n",
       "  </tbody>\n",
       "</table>\n",
       "</div>"
      ],
      "text/plain": [
       "  Caractéristiques(Chambres,Douches et Surfaces)                 Emplacements  \\\n",
       "0                                  [3, 2, 198m²]  DJERBA-HOUMT SOUK, MÉDENINE   \n",
       "1                                         [2, 1]  DJERBA-HOUMT SOUK, MÉDENINE   \n",
       "2                                       [5260m²]  DJERBA-HOUMT SOUK, MÉDENINE   \n",
       "3                                       [7000m²]      DJERBA - AJIM, MÉDENINE   \n",
       "4                                         [3, 3]  DJERBA-HOUMT SOUK, MÉDENINE   \n",
       "5                                  [3, 2, 198m²]  DJERBA-HOUMT SOUK, MÉDENINE   \n",
       "\n",
       "              Prix  \n",
       "0       700 000 DT  \n",
       "1  2 200 DT / Mois  \n",
       "2            95 DT  \n",
       "3            70 DT  \n",
       "4    280 DT / Nuit  \n",
       "5  2 550 DT / Mois  "
      ]
     },
     "execution_count": 11,
     "metadata": {},
     "output_type": "execute_result"
    }
   ],
   "source": [
    "data_tuples=list(zip(caracteristiques_list,emplacements_list,prix_list))\n",
    "pd.DataFrame(data_tuples,columns=[\"Caractéristiques(Chambres,Douches et Surfaces)\",\"Emplacements\",\"Prix\"])"
   ]
  },
  {
   "cell_type": "code",
   "execution_count": 12,
   "id": "90ee0245",
   "metadata": {},
   "outputs": [],
   "source": [
    "client=MongoClient('mongodb://localhost:27017/')\n",
    "annonces=[{\"Caracteristiques(Chambres,Douches,Surface)\":caracteristique,\"Emplacements\":emplacement,\"Prix\":prix} for caracteristique,emplacement,prix in zip(caracteristiques_list,emplacements_list,prix_list)]\n",
    "with client:\n",
    "    db=client.immobilieres\n",
    "    db.annonces.insert_many(annonces)"
   ]
  },
  {
   "cell_type": "code",
   "execution_count": 13,
   "id": "a41e8b3e",
   "metadata": {},
   "outputs": [
    {
     "name": "stdout",
     "output_type": "stream",
     "text": [
      "[{'_id': ObjectId('67598ffc44af25cd42a085a6'), 'Caracteristiques(Chambres,Douches,Surface)': ['3', '2', '198m²'], 'Emplacements': 'DJERBA-HOUMT SOUK, MÉDENINE', 'Prix': '700 000 DT'}, {'_id': ObjectId('67598ffc44af25cd42a085a7'), 'Caracteristiques(Chambres,Douches,Surface)': ['2', '1'], 'Emplacements': 'DJERBA-HOUMT SOUK, MÉDENINE', 'Prix': '2 200 DT / Mois'}, {'_id': ObjectId('67598ffc44af25cd42a085a8'), 'Caracteristiques(Chambres,Douches,Surface)': ['5260m²'], 'Emplacements': 'DJERBA-HOUMT SOUK, MÉDENINE', 'Prix': '95 DT'}, {'_id': ObjectId('67598ffc44af25cd42a085a9'), 'Caracteristiques(Chambres,Douches,Surface)': ['7000m²'], 'Emplacements': 'DJERBA - AJIM, MÉDENINE', 'Prix': '70 DT'}, {'_id': ObjectId('67598ffc44af25cd42a085aa'), 'Caracteristiques(Chambres,Douches,Surface)': ['3', '3'], 'Emplacements': 'DJERBA-HOUMT SOUK, MÉDENINE', 'Prix': '280 DT / Nuit'}, {'_id': ObjectId('67598ffc44af25cd42a085ab'), 'Caracteristiques(Chambres,Douches,Surface)': ['3', '2', '198m²'], 'Emplacements': 'DJERBA-HOUMT SOUK, MÉDENINE', 'Prix': '2 550 DT / Mois'}]\n"
     ]
    }
   ],
   "source": [
    "client=MongoClient('mongodb://localhost:27017/')\n",
    "with client:\n",
    "    db=client.immobilieres\n",
    "    annonces=db.annonces.find()\n",
    "    annonces.next()\n",
    "    annonces.next()\n",
    "    annonces.next()\n",
    "    annonces.next()\n",
    "    annonces.next()\n",
    "    annonces.next()\n",
    "    annonces.rewind()\n",
    "    print(list(annonces))"
   ]
  },
  {
   "cell_type": "code",
   "execution_count": 14,
   "id": "0b6b37ad",
   "metadata": {},
   "outputs": [],
   "source": [
    "driver.quit()"
   ]
  },
  {
   "cell_type": "code",
   "execution_count": 15,
   "id": "22512e99",
   "metadata": {},
   "outputs": [
    {
     "name": "stdout",
     "output_type": "stream",
     "text": [
      "Il existe 6 annonces immobilières\n"
     ]
    }
   ],
   "source": [
    "client=MongoClient('mongodb://localhost:27017/')\n",
    "with client:\n",
    "    db=client.immobilieres\n",
    "    print(f\"Il existe {db.annonces.count_documents({})} annonces immobilières\")"
   ]
  },
  {
   "cell_type": "code",
   "execution_count": null,
   "id": "ecfd491b",
   "metadata": {},
   "outputs": [],
   "source": []
  }
 ],
 "metadata": {
  "kernelspec": {
   "display_name": "Python 3 (ipykernel)",
   "language": "python",
   "name": "python3"
  },
  "language_info": {
   "codemirror_mode": {
    "name": "ipython",
    "version": 3
   },
   "file_extension": ".py",
   "mimetype": "text/x-python",
   "name": "python",
   "nbconvert_exporter": "python",
   "pygments_lexer": "ipython3",
   "version": "3.11.5"
  }
 },
 "nbformat": 4,
 "nbformat_minor": 5
}
