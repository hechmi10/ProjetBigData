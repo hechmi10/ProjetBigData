{
 "cells": [
  {
   "cell_type": "code",
   "execution_count": null,
   "id": "615e935a",
   "metadata": {},
   "outputs": [],
   "source": [
    "from selenium import webdriver\n",
    "from pymongo import MongoClient\n",
    "import re\n",
    "from flask import Flask, render_template, jsonify"
   ]
  },
  {
   "cell_type": "code",
   "execution_count": null,
   "id": "9faddf59",
   "metadata": {},
   "outputs": [],
   "source": [
    "from selenium.webdriver.common.keys import Keys"
   ]
  },
  {
   "cell_type": "code",
   "execution_count": null,
   "id": "7c2c6d5b",
   "metadata": {},
   "outputs": [],
   "source": [
    "import pandas as pd"
   ]
  },
  {
   "cell_type": "code",
   "execution_count": null,
   "id": "eede4c9f",
   "metadata": {},
   "outputs": [],
   "source": [
    "from selenium.webdriver.chrome.service import Service\n",
    "from selenium.webdriver.common.by import By"
   ]
  },
  {
   "cell_type": "code",
   "execution_count": null,
   "id": "8089521e",
   "metadata": {},
   "outputs": [],
   "source": [
    "pd.DataFrame(columns=[\"Caractéristiques(Chambres,Douches et Surfaces)\",\"Emplacements\",\"Prix\"])"
   ]
  },
  {
   "cell_type": "code",
   "execution_count": null,
   "id": "59ea1312",
   "metadata": {},
   "outputs": [],
   "source": [
    "service=Service('C:/Users/hechm/Downloads/chromedriver-win64/chromedriver-win64/chromedriver.exe')"
   ]
  },
  {
   "cell_type": "code",
   "execution_count": null,
   "id": "a05231e4",
   "metadata": {},
   "outputs": [],
   "source": [
    "driver=webdriver.Chrome(service=service)"
   ]
  },
  {
   "cell_type": "code",
   "execution_count": null,
   "id": "ea30610a",
   "metadata": {},
   "outputs": [],
   "source": [
    "caracteristiques_list=[]\n",
    "emplacements_list=[]\n",
    "prix_list=[]"
   ]
  },
  {
   "cell_type": "code",
   "execution_count": null,
   "id": "7d24aebc",
   "metadata": {
    "scrolled": false
   },
   "outputs": [],
   "source": [
    "def extraire_donnees(url_pattern, page_range):\n",
    "    caracteristiques = []\n",
    "    emplacements = []\n",
    "    prix = []\n",
    "\n",
    "    for i in page_range:\n",
    "        url = url_pattern.format(i)\n",
    "        driver.get(url)\n",
    "        \n",
    "        # Extraction des caractéristiques\n",
    "        caracteristiques.extend([c.text for c in driver.find_elements(By.CLASS_NAME, 'li-list-item-info-span')])\n",
    "        \n",
    "        # Extraction des emplacements à partir des balises <p>\n",
    "        emplacements.extend([p.text for p in driver.find_elements(By.TAG_NAME, 'p') if p.text.strip() != \"\"])\n",
    "        \n",
    "        # Extraction des prix\n",
    "        prix.extend([p.text for p in driver.find_elements(By.CLASS_NAME, 'item-box-price')])\n",
    "\n",
    "    return caracteristiques, emplacements, prix"
   ]
  },
  {
   "cell_type": "code",
   "execution_count": null,
   "id": "f8102033",
   "metadata": {},
   "outputs": [],
   "source": [
    "page_range = range(1, 3)\n",
    "appartements_url = \"https://www.menzili.tn/immo/appartement-tunisie?l=0&page={}&tri=1\"\n",
    "maisons_url = \"https://www.menzili.tn/immo/maison-tunisie?l=0&page={}&tri=1\"\n",
    "terrains_url = \"https://www.menzili.tn/immo/terrain-tunisie?l=0&page={}&tri=1\""
   ]
  },
  {
   "cell_type": "code",
   "execution_count": null,
   "id": "8b3b4c96",
   "metadata": {},
   "outputs": [],
   "source": [
    "caracteristiques_appartements, emplacements_appartements, prix_appartements = extraire_donnees(appartements_url, page_range)\n",
    "caracteristiques_maisons, emplacements_maisons, prix_maisons = extraire_donnees(maisons_url, page_range)\n",
    "caracteristiques_terrains, emplacements_terrains, prix_terrains = extraire_donnees(terrains_url, page_range)"
   ]
  },
  {
   "cell_type": "code",
   "execution_count": null,
   "id": "98c17b50",
   "metadata": {
    "scrolled": false
   },
   "outputs": [],
   "source": [
    "for a in caracteristiques_appartements:\n",
    "     if a not in [\"Chambres\",\"Salle\",\"de\",\"bain\",\"Piéces\",\"(Total)\",\"Surf\",\"habitable\",\"terrain\"]:\n",
    "        caracteristiques_list.append(a.split())\n",
    "for m in caracteristiques_maisons:\n",
    "     if m not in [\"Chambres\",\"Salle\",\"de\",\"bain\",\"Piéces\",\"(Total)\",\"Surf\",\"habitable\",\"terrain\"]:\n",
    "        caracteristiques_list.append(m.split())\n",
    "for t in caracteristiques_terrains:\n",
    "     if t not in [\"Surf\",\"terrain\"]:\n",
    "        caracteristiques_list.append(t.split())\n",
    "\n",
    "for ea in emplacements_appartements:\n",
    "    emplacements_list.append(ea.strip())\n",
    "for em in emplacements_maisons:\n",
    "    emplacements_list.append(em.strip())\n",
    "for et in emplacements_terrains:\n",
    "    emplacements_list.append(et.strip())\n",
    "\n",
    "for pa in prix_appartements:\n",
    "    prix_list.append(pa.strip())\n",
    "for pm in prix_maisons:\n",
    "    prix_list.append(pm.strip())\n",
    "for pt in prix_terrains:\n",
    "    prix_list.append(pt.strip())\n",
    "\n",
    "data_tuples=list(zip(caracteristiques_list,emplacements_list,prix_list))\n",
    "pd.DataFrame(data_tuples,columns=[\"Caractéristiques(Chambres,Douches et Surfaces)\",\"Emplacements\",\"Prix\"])"
   ]
  },
  {
   "cell_type": "code",
   "execution_count": null,
   "id": "90ee0245",
   "metadata": {},
   "outputs": [],
   "source": [
    "def inserer_annonces():\n",
    "    client=MongoClient('mongodb://localhost:27017/')\n",
    "    annonces=[{\"Caracteristiques\":caracteristique,\"Emplacements\":emplacement,\"Prix\":prix} for caracteristique,emplacement,prix in zip(caracteristiques_list,emplacements_list,prix_list)]\n",
    "    with client:\n",
    "        db=client.immobilieres\n",
    "        db.annonces.insert_many(annonces)"
   ]
  },
  {
   "cell_type": "code",
   "execution_count": null,
   "id": "a41e8b3e",
   "metadata": {},
   "outputs": [],
   "source": [
    "def afficher_annonces():\n",
    "    client=MongoClient('mongodb://localhost:27017/')\n",
    "    with client:\n",
    "        db=client.immobilieres\n",
    "        annonces=db.annonces.find({},{\"_id\":0})\n",
    "        return list(annonces)\n",
    "print(afficher_annonces())"
   ]
  },
  {
   "cell_type": "code",
   "execution_count": null,
   "id": "22512e99",
   "metadata": {},
   "outputs": [],
   "source": [
    "def compter_annonces():\n",
    "    client=MongoClient('mongodb://localhost:27017/')\n",
    "    with client:\n",
    "        db=client.immobilieres\n",
    "        return db.annonces.count_documents({})"
   ]
  },
  {
   "cell_type": "code",
   "execution_count": null,
   "id": "ecfd491b",
   "metadata": {},
   "outputs": [],
   "source": [
    "app=Flask(__name__)\n",
    "@app.route('/')\n",
    "def main():\n",
    "    try:\n",
    "        return render_template('main.twig')\n",
    "    except Exception as e:\n",
    "        return jsonify({\"Error\":str(e)})\n",
    "@app.route('/scrape')\n",
    "def scrape():\n",
    "    try:\n",
    "        inserer_annonces()\n",
    "        return jsonify({\"message\": \"Scraping complet!\"})\n",
    "    except Exception as e:\n",
    "        return jsonify({\"error\": str(e)}), 500\n",
    "\n",
    "\n",
    "# Route pour afficher les données\n",
    "@app.route('/data')\n",
    "def data():\n",
    "    try:\n",
    "        annonces = afficher_annonces()\n",
    "        return render_template('data.twig', annonces=annonces)\n",
    "    except Exception as e:\n",
    "        return jsonify({\"error\": str(e)}), 500\n",
    "\n",
    "\n",
    "# Route pour les statistiques\n",
    "@app.route('/stats')\n",
    "def stats():\n",
    "    try:\n",
    "        count = compter_annonces()\n",
    "        return jsonify({\"total_listings\": count})\n",
    "    except Exception as e:\n",
    "        return jsonify({\"error\": str(e)}), 500\n",
    "\n",
    "\n",
    "if __name__ == '__main__':\n",
    "    app.run(debug=True, port=5001, use_reloader=False)"
   ]
  },
  {
   "cell_type": "code",
   "execution_count": null,
   "id": "51a43960",
   "metadata": {},
   "outputs": [],
   "source": [
    "driver.quit()"
   ]
  },
  {
   "cell_type": "code",
   "execution_count": null,
   "id": "73e6eb9a",
   "metadata": {},
   "outputs": [],
   "source": [
    "%tb"
   ]
  },
  {
   "cell_type": "code",
   "execution_count": null,
   "id": "91de9790",
   "metadata": {},
   "outputs": [],
   "source": []
  }
 ],
 "metadata": {
  "kernelspec": {
   "display_name": "Python 3 (ipykernel)",
   "language": "python",
   "name": "python3"
  },
  "language_info": {
   "codemirror_mode": {
    "name": "ipython",
    "version": 3
   },
   "file_extension": ".py",
   "mimetype": "text/x-python",
   "name": "python",
   "nbconvert_exporter": "python",
   "pygments_lexer": "ipython3",
   "version": "3.11.5"
  }
 },
 "nbformat": 4,
 "nbformat_minor": 5
}
