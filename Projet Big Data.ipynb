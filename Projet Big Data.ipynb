{
 "cells": [
  {
   "cell_type": "code",
   "execution_count": 1,
   "id": "615e935a",
   "metadata": {},
   "outputs": [],
   "source": [
    "from selenium import webdriver\n",
    "from pymongo import MongoClient\n",
    "from flask import Flask, render_template, jsonify"
   ]
  },
  {
   "cell_type": "code",
   "execution_count": 2,
   "id": "9faddf59",
   "metadata": {},
   "outputs": [],
   "source": [
    "from selenium.webdriver.common.keys import Keys"
   ]
  },
  {
   "cell_type": "code",
   "execution_count": 3,
   "id": "7c2c6d5b",
   "metadata": {},
   "outputs": [],
   "source": [
    "import pandas as pd"
   ]
  },
  {
   "cell_type": "code",
   "execution_count": 4,
   "id": "eede4c9f",
   "metadata": {},
   "outputs": [],
   "source": [
    "from selenium.webdriver.chrome.service import Service\n",
    "from selenium.webdriver.common.by import By"
   ]
  },
  {
   "cell_type": "code",
   "execution_count": 5,
   "id": "8089521e",
   "metadata": {},
   "outputs": [
    {
     "data": {
      "text/html": [
       "<div>\n",
       "<style scoped>\n",
       "    .dataframe tbody tr th:only-of-type {\n",
       "        vertical-align: middle;\n",
       "    }\n",
       "\n",
       "    .dataframe tbody tr th {\n",
       "        vertical-align: top;\n",
       "    }\n",
       "\n",
       "    .dataframe thead th {\n",
       "        text-align: right;\n",
       "    }\n",
       "</style>\n",
       "<table border=\"1\" class=\"dataframe\">\n",
       "  <thead>\n",
       "    <tr style=\"text-align: right;\">\n",
       "      <th></th>\n",
       "      <th>Caractéristiques(Chambres,Douches et Surfaces)</th>\n",
       "      <th>Emplacements</th>\n",
       "      <th>Prix</th>\n",
       "    </tr>\n",
       "  </thead>\n",
       "  <tbody>\n",
       "  </tbody>\n",
       "</table>\n",
       "</div>"
      ],
      "text/plain": [
       "Empty DataFrame\n",
       "Columns: [Caractéristiques(Chambres,Douches et Surfaces), Emplacements, Prix]\n",
       "Index: []"
      ]
     },
     "execution_count": 5,
     "metadata": {},
     "output_type": "execute_result"
    }
   ],
   "source": [
    "pd.DataFrame(columns=[\"Caractéristiques(Chambres,Douches et Surfaces)\",\"Emplacements\",\"Prix\"])"
   ]
  },
  {
   "cell_type": "code",
   "execution_count": 6,
   "id": "59ea1312",
   "metadata": {},
   "outputs": [],
   "source": [
    "service=Service('C:/Users/hechm/Downloads/chromedriver-win64/chromedriver-win64/chromedriver.exe')"
   ]
  },
  {
   "cell_type": "code",
   "execution_count": 7,
   "id": "a05231e4",
   "metadata": {},
   "outputs": [],
   "source": [
    "driver=webdriver.Chrome(service=service)"
   ]
  },
  {
   "cell_type": "code",
   "execution_count": 8,
   "id": "ea30610a",
   "metadata": {},
   "outputs": [],
   "source": [
    "caracteristiques_list=[]\n",
    "emplacements_list=[]\n",
    "prix_list=[]"
   ]
  },
  {
   "cell_type": "code",
   "execution_count": 9,
   "id": "7d24aebc",
   "metadata": {
    "scrolled": false
   },
   "outputs": [],
   "source": [
    "def extraire_donnees(url_pattern, page_range):\n",
    "    caracteristiques = []\n",
    "    emplacements = []\n",
    "    prix = []\n",
    "\n",
    "    for i in page_range:\n",
    "        url = url_pattern.format(i)\n",
    "        driver.get(url)\n",
    "        \n",
    "        # Extraction des caractéristiques\n",
    "        caracteristiques.extend([c.text for c in driver.find_elements(By.CLASS_NAME, 'li-list-item-info-span')])\n",
    "        \n",
    "        # Extraction des emplacements à partir des balises <p>\n",
    "        emplacements.extend([p.text for p in driver.find_elements(By.TAG_NAME, 'p') if p.text.strip() != \"\"])\n",
    "        \n",
    "        # Extraction des prix\n",
    "        prix.extend([p.text for p in driver.find_elements(By.CLASS_NAME, 'item-box-price')])\n",
    "\n",
    "    return caracteristiques, emplacements, prix"
   ]
  },
  {
   "cell_type": "code",
   "execution_count": 10,
   "id": "f8102033",
   "metadata": {},
   "outputs": [],
   "source": [
    "page_range = range(1, 3)\n",
    "appartements_url = \"https://www.menzili.tn/immo/appartement-tunisie?l=0&page={}&tri=1\"\n",
    "maisons_url = \"https://www.menzili.tn/immo/maison-tunisie?l=0&page={}&tri=1\"\n",
    "terrains_url = \"https://www.menzili.tn/immo/terrain-tunisie?l=0&page={}&tri=1\""
   ]
  },
  {
   "cell_type": "code",
   "execution_count": 11,
   "id": "8b3b4c96",
   "metadata": {},
   "outputs": [],
   "source": [
    "caracteristiques_appartements, emplacements_appartements, prix_appartements = extraire_donnees(appartements_url, page_range)\n",
    "caracteristiques_maisons, emplacements_maisons, prix_maisons = extraire_donnees(maisons_url, page_range)\n",
    "caracteristiques_terrains, emplacements_terrains, prix_terrains = extraire_donnees(terrains_url, page_range)"
   ]
  },
  {
   "cell_type": "code",
   "execution_count": 12,
   "id": "98c17b50",
   "metadata": {
    "scrolled": false
   },
   "outputs": [
    {
     "data": {
      "text/html": [
       "<div>\n",
       "<style scoped>\n",
       "    .dataframe tbody tr th:only-of-type {\n",
       "        vertical-align: middle;\n",
       "    }\n",
       "\n",
       "    .dataframe tbody tr th {\n",
       "        vertical-align: top;\n",
       "    }\n",
       "\n",
       "    .dataframe thead th {\n",
       "        text-align: right;\n",
       "    }\n",
       "</style>\n",
       "<table border=\"1\" class=\"dataframe\">\n",
       "  <thead>\n",
       "    <tr style=\"text-align: right;\">\n",
       "      <th></th>\n",
       "      <th>Caractéristiques(Chambres,Douches et Surfaces)</th>\n",
       "      <th>Emplacements</th>\n",
       "      <th>Prix</th>\n",
       "    </tr>\n",
       "  </thead>\n",
       "  <tbody>\n",
       "    <tr>\n",
       "      <th>0</th>\n",
       "      <td>[2, Chambres, 1, Salle, de, bain, 5, Piéces, (...</td>\n",
       "      <td>En poursuivant votre navigation sur notre site...</td>\n",
       "      <td>175 DT</td>\n",
       "    </tr>\n",
       "    <tr>\n",
       "      <th>1</th>\n",
       "      <td>[2, Chambres, 1, Salle, de, bain, 5, Piéces, (...</td>\n",
       "      <td>Djerba-Houmt Souk, Médenine</td>\n",
       "      <td>140 DT</td>\n",
       "    </tr>\n",
       "    <tr>\n",
       "      <th>2</th>\n",
       "      <td>[2, Chambres, 1, Salle, de, bain, 5, Piéces, (...</td>\n",
       "      <td>Djerba-Houmt Souk, Médenine</td>\n",
       "      <td>140 DT</td>\n",
       "    </tr>\n",
       "    <tr>\n",
       "      <th>3</th>\n",
       "      <td>[2, Chambres, 1, Salle, de, bain, 5, Piéces, (...</td>\n",
       "      <td>Djerba-Houmt Souk, Médenine</td>\n",
       "      <td>175 DT</td>\n",
       "    </tr>\n",
       "    <tr>\n",
       "      <th>4</th>\n",
       "      <td>[2, Chambres, 1, Salle, de, bain, 5, Piéces, (...</td>\n",
       "      <td>Djerba-Houmt Souk, Médenine</td>\n",
       "      <td>210 DT</td>\n",
       "    </tr>\n",
       "    <tr>\n",
       "      <th>...</th>\n",
       "      <td>...</td>\n",
       "      <td>...</td>\n",
       "      <td>...</td>\n",
       "    </tr>\n",
       "    <tr>\n",
       "      <th>115</th>\n",
       "      <td>[21000m², Surf, terrain]</td>\n",
       "      <td>Tunis centre ville</td>\n",
       "      <td>1 000 000 DT</td>\n",
       "    </tr>\n",
       "    <tr>\n",
       "      <th>116</th>\n",
       "      <td>[480000m², Surf, terrain]</td>\n",
       "      <td>Sousse</td>\n",
       "      <td>105 000 DT</td>\n",
       "    </tr>\n",
       "    <tr>\n",
       "      <th>117</th>\n",
       "      <td>[]</td>\n",
       "      <td>Sfax</td>\n",
       "      <td>79 000 DT</td>\n",
       "    </tr>\n",
       "    <tr>\n",
       "      <th>118</th>\n",
       "      <td>[250m², Surf, terrain]</td>\n",
       "      <td>Monastir</td>\n",
       "      <td>2 600 000 DT</td>\n",
       "    </tr>\n",
       "    <tr>\n",
       "      <th>119</th>\n",
       "      <td>[257m², Surf, terrain]</td>\n",
       "      <td>Ariana</td>\n",
       "      <td>Contactez l'annonceur</td>\n",
       "    </tr>\n",
       "  </tbody>\n",
       "</table>\n",
       "<p>120 rows × 3 columns</p>\n",
       "</div>"
      ],
      "text/plain": [
       "        Caractéristiques(Chambres,Douches et Surfaces)  \\\n",
       "0    [2, Chambres, 1, Salle, de, bain, 5, Piéces, (...   \n",
       "1    [2, Chambres, 1, Salle, de, bain, 5, Piéces, (...   \n",
       "2    [2, Chambres, 1, Salle, de, bain, 5, Piéces, (...   \n",
       "3    [2, Chambres, 1, Salle, de, bain, 5, Piéces, (...   \n",
       "4    [2, Chambres, 1, Salle, de, bain, 5, Piéces, (...   \n",
       "..                                                 ...   \n",
       "115                           [21000m², Surf, terrain]   \n",
       "116                          [480000m², Surf, terrain]   \n",
       "117                                                 []   \n",
       "118                             [250m², Surf, terrain]   \n",
       "119                             [257m², Surf, terrain]   \n",
       "\n",
       "                                          Emplacements                   Prix  \n",
       "0    En poursuivant votre navigation sur notre site...                 175 DT  \n",
       "1                          Djerba-Houmt Souk, Médenine                 140 DT  \n",
       "2                          Djerba-Houmt Souk, Médenine                 140 DT  \n",
       "3                          Djerba-Houmt Souk, Médenine                 175 DT  \n",
       "4                          Djerba-Houmt Souk, Médenine                 210 DT  \n",
       "..                                                 ...                    ...  \n",
       "115                                 Tunis centre ville           1 000 000 DT  \n",
       "116                                             Sousse             105 000 DT  \n",
       "117                                               Sfax              79 000 DT  \n",
       "118                                           Monastir           2 600 000 DT  \n",
       "119                                             Ariana  Contactez l'annonceur  \n",
       "\n",
       "[120 rows x 3 columns]"
      ]
     },
     "execution_count": 12,
     "metadata": {},
     "output_type": "execute_result"
    }
   ],
   "source": [
    "for a in caracteristiques_appartements:\n",
    "    caracteristiques_list.append(a.split())\n",
    "for m in caracteristiques_maisons:\n",
    "    caracteristiques_list.append(m.split())\n",
    "for t in caracteristiques_terrains:\n",
    "    caracteristiques_list.append(t.split())\n",
    "\n",
    "for ea in emplacements_appartements:\n",
    "    emplacements_list.append(ea.strip())\n",
    "for em in emplacements_maisons:\n",
    "    emplacements_list.append(em.strip())\n",
    "for et in emplacements_terrains:\n",
    "    emplacements_list.append(et.strip())\n",
    "\n",
    "for pa in prix_appartements:\n",
    "    prix_list.append(pa.strip())\n",
    "for pm in prix_maisons:\n",
    "    prix_list.append(pm.strip())\n",
    "for pt in prix_terrains:\n",
    "    prix_list.append(pt.strip())\n",
    "\n",
    "data_tuples=list(zip(caracteristiques_list,emplacements_list,prix_list))\n",
    "pd.DataFrame(data_tuples,columns=[\"Caractéristiques(Chambres,Douches et Surfaces)\",\"Emplacements\",\"Prix\"])"
   ]
  },
  {
   "cell_type": "code",
   "execution_count": 13,
   "id": "90ee0245",
   "metadata": {},
   "outputs": [],
   "source": [
    "def inserer_annonces():\n",
    "    client=MongoClient('mongodb://localhost:27017/')\n",
    "    annonces=[{\"Caracteristiques(Chambres,Douches,Surface)\":caracteristique,\"Emplacements\":emplacement,\"Prix\":prix} for caracteristique,emplacement,prix in zip(caracteristiques_list,emplacements_list,prix_list)]\n",
    "    with client:\n",
    "        db=client.immobilieres\n",
    "        db.annonces.insert_many(annonces)"
   ]
  },
  {
   "cell_type": "code",
   "execution_count": 14,
   "id": "a41e8b3e",
   "metadata": {},
   "outputs": [],
   "source": [
    "def afficher_annonces():\n",
    "    client=MongoClient('mongodb://localhost:27017/')\n",
    "    with client:\n",
    "        db=client.immobilieres\n",
    "        annonces=db.annonces.find()\n",
    "        annonces.next()\n",
    "        annonces.next()\n",
    "        annonces.next()\n",
    "        annonces.next()\n",
    "        annonces.next()\n",
    "        annonces.next()\n",
    "        annonces.rewind()\n",
    "        print(list(annonces))"
   ]
  },
  {
   "cell_type": "code",
   "execution_count": 15,
   "id": "22512e99",
   "metadata": {},
   "outputs": [],
   "source": [
    "def compter_annonces():\n",
    "    client=MongoClient('mongodb://localhost:27017/')\n",
    "    with client:\n",
    "        db=client.immobilieres\n",
    "        print(f\"Il existe {db.annonces.count_documents({})} annonces immobilières\")"
   ]
  },
  {
   "cell_type": "code",
   "execution_count": 16,
   "id": "ecfd491b",
   "metadata": {},
   "outputs": [
    {
     "name": "stdout",
     "output_type": "stream",
     "text": [
      " * Serving Flask app '__main__'\n",
      " * Debug mode: on\n"
     ]
    },
    {
     "name": "stderr",
     "output_type": "stream",
     "text": [
      "WARNING: This is a development server. Do not use it in a production deployment. Use a production WSGI server instead.\n",
      " * Running on http://127.0.0.1:5000\n",
      "Press CTRL+C to quit\n",
      " * Restarting with watchdog (windowsapi)\n"
     ]
    },
    {
     "ename": "SystemExit",
     "evalue": "1",
     "output_type": "error",
     "traceback": [
      "An exception has occurred, use %tb to see the full traceback.\n",
      "\u001b[1;31mSystemExit\u001b[0m\u001b[1;31m:\u001b[0m 1\n"
     ]
    },
    {
     "name": "stderr",
     "output_type": "stream",
     "text": [
      "C:\\Users\\hechm\\anaconda3\\Lib\\site-packages\\IPython\\core\\interactiveshell.py:3534: UserWarning: To exit: use 'exit', 'quit', or Ctrl-D.\n",
      "  warn(\"To exit: use 'exit', 'quit', or Ctrl-D.\", stacklevel=1)\n"
     ]
    }
   ],
   "source": [
    "app=Flask(__name__)\n",
    "@app.route('/scrape')\n",
    "def scrape():\n",
    "    try:\n",
    "        # Modèles d'URL et plages de pages à scraper\n",
    "        urls = [\n",
    "            \"https://www.menzili.tn/immo/appartement-tunisie?l=0&page={}\",\n",
    "            \"https://www.menzili.tn/immo/maison-tunisie?l=0&page={}\",\n",
    "            \"https://www.menzili.tn/immo/terrain-tunisie?l=0&page={}\"\n",
    "        ]\n",
    "        page_range = range(1, 3)\n",
    "\n",
    "        for url_pattern in urls:\n",
    "            caracteristiques, emplacements, prix = extraire_donnees(url_pattern, page_range)\n",
    "\n",
    "            # Insérer les données dans MongoDB\n",
    "            inserer_annonces()\n",
    "\n",
    "        return jsonify({\"message\": \"Scraping complet!\"})\n",
    "    except Exception as e:\n",
    "        return jsonify({\"error\": str(e)}), 500\n",
    "\n",
    "\n",
    "# Route pour afficher les données\n",
    "@app.route('/data')\n",
    "def data():\n",
    "    try:\n",
    "        annonces = afficher_annonces()\n",
    "        return render_template('data.twig', annonces=annonces)\n",
    "    except Exception as e:\n",
    "        return jsonify({\"error\": str(e)}), 500\n",
    "\n",
    "\n",
    "# Route pour les statistiques\n",
    "@app.route('/stats')\n",
    "def stats():\n",
    "    try:\n",
    "        count = compter_documents()\n",
    "        return jsonify({\"total_listings\": count})\n",
    "    except Exception as e:\n",
    "        return jsonify({\"error\": str(e)}), 500\n",
    "\n",
    "\n",
    "if __name__ == '__main__':\n",
    "    app.run(debug=True)"
   ]
  },
  {
   "cell_type": "code",
   "execution_count": 17,
   "id": "51a43960",
   "metadata": {},
   "outputs": [],
   "source": [
    "driver.quit()"
   ]
  },
  {
   "cell_type": "code",
   "execution_count": null,
   "id": "73e6eb9a",
   "metadata": {},
   "outputs": [],
   "source": []
  }
 ],
 "metadata": {
  "kernelspec": {
   "display_name": "Python 3 (ipykernel)",
   "language": "python",
   "name": "python3"
  },
  "language_info": {
   "codemirror_mode": {
    "name": "ipython",
    "version": 3
   },
   "file_extension": ".py",
   "mimetype": "text/x-python",
   "name": "python",
   "nbconvert_exporter": "python",
   "pygments_lexer": "ipython3",
   "version": "3.11.5"
  }
 },
 "nbformat": 4,
 "nbformat_minor": 5
}
